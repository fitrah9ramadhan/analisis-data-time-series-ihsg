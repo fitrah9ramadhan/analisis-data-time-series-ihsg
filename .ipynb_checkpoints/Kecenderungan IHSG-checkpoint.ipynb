{
 "cells": [
  {
   "cell_type": "code",
   "execution_count": 78,
   "metadata": {
    "executionInfo": {
     "elapsed": 545,
     "status": "ok",
     "timestamp": 1654218150751,
     "user": {
      "displayName": "fr monk",
      "userId": "18079389284080009080"
     },
     "user_tz": -480
    },
    "id": "kX9rLEak6_0n"
   },
   "outputs": [],
   "source": [
    "import pandas as pd\n",
    "import numpy as np\n",
    "import matplotlib.pyplot as plt\n",
    "from matplotlib.dates import date2num\n",
    "import seaborn as sns\n",
    "import datetime\n",
    "\n",
    "\n",
    "plt.style.use(\"seaborn-bright\")"
   ]
  },
  {
   "cell_type": "markdown",
   "metadata": {},
   "source": [
    "### Exploratory Data Analysis"
   ]
  },
  {
   "cell_type": "code",
   "execution_count": 31,
   "metadata": {
    "executionInfo": {
     "elapsed": 382,
     "status": "ok",
     "timestamp": 1654218151130,
     "user": {
      "displayName": "fr monk",
      "userId": "18079389284080009080"
     },
     "user_tz": -480
    },
    "id": "_-ueFZ7H7LY0"
   },
   "outputs": [],
   "source": [
    "df=pd.read_csv(\"data/JKSE.csv\", parse_dates = True, index_col = \"Date\")"
   ]
  },
  {
   "cell_type": "code",
   "execution_count": 32,
   "metadata": {
    "colab": {
     "base_uri": "https://localhost:8080/"
    },
    "executionInfo": {
     "elapsed": 17,
     "status": "ok",
     "timestamp": 1654218151131,
     "user": {
      "displayName": "fr monk",
      "userId": "18079389284080009080"
     },
     "user_tz": -480
    },
    "id": "bQKGQPHW7WzP",
    "outputId": "09d12c71-ac8d-466c-d4e9-23f9c9051a9f"
   },
   "outputs": [
    {
     "name": "stdout",
     "output_type": "stream",
     "text": [
      "<class 'pandas.core.frame.DataFrame'>\n",
      "DatetimeIndex: 1254 entries, 2017-06-05 to 2022-06-02\n",
      "Data columns (total 6 columns):\n",
      " #   Column     Non-Null Count  Dtype  \n",
      "---  ------     --------------  -----  \n",
      " 0   Open       1209 non-null   float64\n",
      " 1   High       1209 non-null   float64\n",
      " 2   Low        1209 non-null   float64\n",
      " 3   Close      1209 non-null   float64\n",
      " 4   Adj Close  1209 non-null   float64\n",
      " 5   Volume     1209 non-null   float64\n",
      "dtypes: float64(6)\n",
      "memory usage: 68.6 KB\n"
     ]
    }
   ],
   "source": [
    "df.info()"
   ]
  },
  {
   "cell_type": "code",
   "execution_count": 33,
   "metadata": {
    "executionInfo": {
     "elapsed": 15,
     "status": "ok",
     "timestamp": 1654218151132,
     "user": {
      "displayName": "fr monk",
      "userId": "18079389284080009080"
     },
     "user_tz": -480
    },
    "id": "R6l6dBK58bGr"
   },
   "outputs": [],
   "source": [
    "df = df[[\"Close\"]]"
   ]
  },
  {
   "cell_type": "code",
   "execution_count": 34,
   "metadata": {
    "executionInfo": {
     "elapsed": 15,
     "status": "ok",
     "timestamp": 1654218151132,
     "user": {
      "displayName": "fr monk",
      "userId": "18079389284080009080"
     },
     "user_tz": -480
    },
    "id": "sO0qY-d88tfK"
   },
   "outputs": [],
   "source": [
    "df[\"Years\"] = df.index.year"
   ]
  },
  {
   "cell_type": "code",
   "execution_count": 35,
   "metadata": {
    "colab": {
     "base_uri": "https://localhost:8080/",
     "height": 238
    },
    "executionInfo": {
     "elapsed": 15,
     "status": "ok",
     "timestamp": 1654218151132,
     "user": {
      "displayName": "fr monk",
      "userId": "18079389284080009080"
     },
     "user_tz": -480
    },
    "id": "XnChIc9D8t_s",
    "outputId": "f543345b-949f-47e3-c434-e9d5605e985d"
   },
   "outputs": [
    {
     "data": {
      "text/html": [
       "<div>\n",
       "<style scoped>\n",
       "    .dataframe tbody tr th:only-of-type {\n",
       "        vertical-align: middle;\n",
       "    }\n",
       "\n",
       "    .dataframe tbody tr th {\n",
       "        vertical-align: top;\n",
       "    }\n",
       "\n",
       "    .dataframe thead th {\n",
       "        text-align: right;\n",
       "    }\n",
       "</style>\n",
       "<table border=\"1\" class=\"dataframe\">\n",
       "  <thead>\n",
       "    <tr style=\"text-align: right;\">\n",
       "      <th></th>\n",
       "      <th>Close</th>\n",
       "      <th>Years</th>\n",
       "    </tr>\n",
       "    <tr>\n",
       "      <th>Date</th>\n",
       "      <th></th>\n",
       "      <th></th>\n",
       "    </tr>\n",
       "  </thead>\n",
       "  <tbody>\n",
       "    <tr>\n",
       "      <th>2017-06-05</th>\n",
       "      <td>5748.234863</td>\n",
       "      <td>2017</td>\n",
       "    </tr>\n",
       "    <tr>\n",
       "      <th>2017-06-06</th>\n",
       "      <td>5707.831055</td>\n",
       "      <td>2017</td>\n",
       "    </tr>\n",
       "    <tr>\n",
       "      <th>2017-06-07</th>\n",
       "      <td>5717.325195</td>\n",
       "      <td>2017</td>\n",
       "    </tr>\n",
       "    <tr>\n",
       "      <th>2017-06-08</th>\n",
       "      <td>5702.921875</td>\n",
       "      <td>2017</td>\n",
       "    </tr>\n",
       "    <tr>\n",
       "      <th>2017-06-09</th>\n",
       "      <td>5675.522949</td>\n",
       "      <td>2017</td>\n",
       "    </tr>\n",
       "  </tbody>\n",
       "</table>\n",
       "</div>"
      ],
      "text/plain": [
       "                  Close  Years\n",
       "Date                          \n",
       "2017-06-05  5748.234863   2017\n",
       "2017-06-06  5707.831055   2017\n",
       "2017-06-07  5717.325195   2017\n",
       "2017-06-08  5702.921875   2017\n",
       "2017-06-09  5675.522949   2017"
      ]
     },
     "execution_count": 35,
     "metadata": {},
     "output_type": "execute_result"
    }
   ],
   "source": [
    "df.head()"
   ]
  },
  {
   "cell_type": "code",
   "execution_count": 36,
   "metadata": {
    "executionInfo": {
     "elapsed": 15,
     "status": "ok",
     "timestamp": 1654218151133,
     "user": {
      "displayName": "fr monk",
      "userId": "18079389284080009080"
     },
     "user_tz": -480
    },
    "id": "Ky4Ux0DZ9Mzr"
   },
   "outputs": [],
   "source": [
    "df[\"Months\"] = df.index.month_name()"
   ]
  },
  {
   "cell_type": "code",
   "execution_count": 37,
   "metadata": {
    "colab": {
     "base_uri": "https://localhost:8080/",
     "height": 455
    },
    "executionInfo": {
     "elapsed": 325,
     "status": "ok",
     "timestamp": 1654218868098,
     "user": {
      "displayName": "fr monk",
      "userId": "18079389284080009080"
     },
     "user_tz": -480
    },
    "id": "S_f9PEy-9RCF",
    "outputId": "82fa2767-6513-4898-938b-7e6f9dd8afce"
   },
   "outputs": [
    {
     "data": {
      "text/html": [
       "<div>\n",
       "<style scoped>\n",
       "    .dataframe tbody tr th:only-of-type {\n",
       "        vertical-align: middle;\n",
       "    }\n",
       "\n",
       "    .dataframe tbody tr th {\n",
       "        vertical-align: top;\n",
       "    }\n",
       "\n",
       "    .dataframe thead th {\n",
       "        text-align: right;\n",
       "    }\n",
       "</style>\n",
       "<table border=\"1\" class=\"dataframe\">\n",
       "  <thead>\n",
       "    <tr style=\"text-align: right;\">\n",
       "      <th></th>\n",
       "      <th>Close</th>\n",
       "      <th>Years</th>\n",
       "      <th>Months</th>\n",
       "    </tr>\n",
       "    <tr>\n",
       "      <th>Date</th>\n",
       "      <th></th>\n",
       "      <th></th>\n",
       "      <th></th>\n",
       "    </tr>\n",
       "  </thead>\n",
       "  <tbody>\n",
       "    <tr>\n",
       "      <th>2017-06-05</th>\n",
       "      <td>5748.234863</td>\n",
       "      <td>2017</td>\n",
       "      <td>June</td>\n",
       "    </tr>\n",
       "    <tr>\n",
       "      <th>2017-06-06</th>\n",
       "      <td>5707.831055</td>\n",
       "      <td>2017</td>\n",
       "      <td>June</td>\n",
       "    </tr>\n",
       "    <tr>\n",
       "      <th>2017-06-07</th>\n",
       "      <td>5717.325195</td>\n",
       "      <td>2017</td>\n",
       "      <td>June</td>\n",
       "    </tr>\n",
       "    <tr>\n",
       "      <th>2017-06-08</th>\n",
       "      <td>5702.921875</td>\n",
       "      <td>2017</td>\n",
       "      <td>June</td>\n",
       "    </tr>\n",
       "    <tr>\n",
       "      <th>2017-06-09</th>\n",
       "      <td>5675.522949</td>\n",
       "      <td>2017</td>\n",
       "      <td>June</td>\n",
       "    </tr>\n",
       "    <tr>\n",
       "      <th>...</th>\n",
       "      <td>...</td>\n",
       "      <td>...</td>\n",
       "      <td>...</td>\n",
       "    </tr>\n",
       "    <tr>\n",
       "      <th>2022-05-25</th>\n",
       "      <td>6883.503906</td>\n",
       "      <td>2022</td>\n",
       "      <td>May</td>\n",
       "    </tr>\n",
       "    <tr>\n",
       "      <th>2022-05-27</th>\n",
       "      <td>7026.255859</td>\n",
       "      <td>2022</td>\n",
       "      <td>May</td>\n",
       "    </tr>\n",
       "    <tr>\n",
       "      <th>2022-05-30</th>\n",
       "      <td>7037.564941</td>\n",
       "      <td>2022</td>\n",
       "      <td>May</td>\n",
       "    </tr>\n",
       "    <tr>\n",
       "      <th>2022-05-31</th>\n",
       "      <td>7148.970215</td>\n",
       "      <td>2022</td>\n",
       "      <td>May</td>\n",
       "    </tr>\n",
       "    <tr>\n",
       "      <th>2022-06-02</th>\n",
       "      <td>7148.723145</td>\n",
       "      <td>2022</td>\n",
       "      <td>June</td>\n",
       "    </tr>\n",
       "  </tbody>\n",
       "</table>\n",
       "<p>1254 rows × 3 columns</p>\n",
       "</div>"
      ],
      "text/plain": [
       "                  Close  Years Months\n",
       "Date                                 \n",
       "2017-06-05  5748.234863   2017   June\n",
       "2017-06-06  5707.831055   2017   June\n",
       "2017-06-07  5717.325195   2017   June\n",
       "2017-06-08  5702.921875   2017   June\n",
       "2017-06-09  5675.522949   2017   June\n",
       "...                 ...    ...    ...\n",
       "2022-05-25  6883.503906   2022    May\n",
       "2022-05-27  7026.255859   2022    May\n",
       "2022-05-30  7037.564941   2022    May\n",
       "2022-05-31  7148.970215   2022    May\n",
       "2022-06-02  7148.723145   2022   June\n",
       "\n",
       "[1254 rows x 3 columns]"
      ]
     },
     "execution_count": 37,
     "metadata": {},
     "output_type": "execute_result"
    }
   ],
   "source": [
    "df"
   ]
  },
  {
   "cell_type": "code",
   "execution_count": 38,
   "metadata": {
    "executionInfo": {
     "elapsed": 14,
     "status": "ok",
     "timestamp": 1654218151134,
     "user": {
      "displayName": "fr monk",
      "userId": "18079389284080009080"
     },
     "user_tz": -480
    },
    "id": "C7yLu4ud9R_n"
   },
   "outputs": [],
   "source": [
    "df = df.dropna()"
   ]
  },
  {
   "cell_type": "code",
   "execution_count": 39,
   "metadata": {
    "colab": {
     "base_uri": "https://localhost:8080/"
    },
    "executionInfo": {
     "elapsed": 14,
     "status": "ok",
     "timestamp": 1654218151134,
     "user": {
      "displayName": "fr monk",
      "userId": "18079389284080009080"
     },
     "user_tz": -480
    },
    "id": "KYSGD-3r9bkT",
    "outputId": "876a7815-e1f0-4cc6-e744-a127f0fa4d7b"
   },
   "outputs": [
    {
     "name": "stdout",
     "output_type": "stream",
     "text": [
      "<class 'pandas.core.frame.DataFrame'>\n",
      "DatetimeIndex: 1209 entries, 2017-06-05 to 2022-06-02\n",
      "Data columns (total 3 columns):\n",
      " #   Column  Non-Null Count  Dtype  \n",
      "---  ------  --------------  -----  \n",
      " 0   Close   1209 non-null   float64\n",
      " 1   Years   1209 non-null   int64  \n",
      " 2   Months  1209 non-null   object \n",
      "dtypes: float64(1), int64(1), object(1)\n",
      "memory usage: 37.8+ KB\n"
     ]
    }
   ],
   "source": [
    "df.info()"
   ]
  },
  {
   "cell_type": "code",
   "execution_count": 110,
   "metadata": {
    "colab": {
     "base_uri": "https://localhost:8080/",
     "height": 530
    },
    "executionInfo": {
     "elapsed": 748,
     "status": "ok",
     "timestamp": 1654219000589,
     "user": {
      "displayName": "fr monk",
      "userId": "18079389284080009080"
     },
     "user_tz": -480
    },
    "id": "T8NRJF_i9c4r",
    "outputId": "b42b0500-3ed6-4d83-a577-6481d9334007"
   },
   "outputs": [
    {
     "data": {
      "text/plain": [
       "[<matplotlib.lines.Line2D at 0x7ff18ec8d910>]"
      ]
     },
     "execution_count": 110,
     "metadata": {},
     "output_type": "execute_result"
    },
    {
     "data": {
      "image/png": "[encoded data removed]",
      "text/plain": [
       "<Figure size 1080x720 with 1 Axes>"
      ]
     },
     "metadata": {},
     "output_type": "display_data"
    }
   ],
   "source": [
    "\n",
    "\n",
    "fig, ax = plt.subplots(figsize = (15, 10))\n",
    "\n",
    "ax.set_title(\"Pergerakan IHSG 2017 - 2022\")\n",
    "ax.set_xlabel(\"Tahun\")\n",
    "\n",
    "covid = date2num(datetime.datetime(2020,3,2))\n",
    "ax.axvspan(covid, xmax = covid+60, color = 'pink')\n",
    "\n",
    "ax.plot(df['Close'], color = 'orange')"
   ]
  },
  {
   "cell_type": "code",
   "execution_count": 104,
   "metadata": {
    "executionInfo": {
     "elapsed": 15,
     "status": "ok",
     "timestamp": 1654218151597,
     "user": {
      "displayName": "fr monk",
      "userId": "18079389284080009080"
     },
     "user_tz": -480
    },
    "id": "Bsb2UxeI_A4-"
   },
   "outputs": [],
   "source": [
    "df_bar = df.groupby(by = [\"Years\", \"Months\"], sort=False).mean()\n",
    "df_bar = df_bar.rename(columns={\"Close\": \"Index\"})\n",
    "df_bar = df_bar.reset_index()"
   ]
  },
  {
   "cell_type": "code",
   "execution_count": 105,
   "metadata": {
    "colab": {
     "base_uri": "https://localhost:8080/",
     "height": 206
    },
    "executionInfo": {
     "elapsed": 15,
     "status": "ok",
     "timestamp": 1654218151597,
     "user": {
      "displayName": "fr monk",
      "userId": "18079389284080009080"
     },
     "user_tz": -480
    },
    "id": "Mby8PYlH_NR9",
    "outputId": "9cdd6a50-ec62-48d3-a34a-142f1ddc8d67"
   },
   "outputs": [
    {
     "data": {
      "text/html": [
       "<div>\n",
       "<style scoped>\n",
       "    .dataframe tbody tr th:only-of-type {\n",
       "        vertical-align: middle;\n",
       "    }\n",
       "\n",
       "    .dataframe tbody tr th {\n",
       "        vertical-align: top;\n",
       "    }\n",
       "\n",
       "    .dataframe thead th {\n",
       "        text-align: right;\n",
       "    }\n",
       "</style>\n",
       "<table border=\"1\" class=\"dataframe\">\n",
       "  <thead>\n",
       "    <tr style=\"text-align: right;\">\n",
       "      <th></th>\n",
       "      <th>Years</th>\n",
       "      <th>Months</th>\n",
       "      <th>Index</th>\n",
       "    </tr>\n",
       "  </thead>\n",
       "  <tbody>\n",
       "    <tr>\n",
       "      <th>0</th>\n",
       "      <td>2017</td>\n",
       "      <td>June</td>\n",
       "      <td>5744.700439</td>\n",
       "    </tr>\n",
       "    <tr>\n",
       "      <th>1</th>\n",
       "      <td>2017</td>\n",
       "      <td>July</td>\n",
       "      <td>5821.848447</td>\n",
       "    </tr>\n",
       "    <tr>\n",
       "      <th>2</th>\n",
       "      <td>2017</td>\n",
       "      <td>August</td>\n",
       "      <td>5844.486328</td>\n",
       "    </tr>\n",
       "    <tr>\n",
       "      <th>3</th>\n",
       "      <td>2017</td>\n",
       "      <td>September</td>\n",
       "      <td>5865.231265</td>\n",
       "    </tr>\n",
       "    <tr>\n",
       "      <th>4</th>\n",
       "      <td>2017</td>\n",
       "      <td>October</td>\n",
       "      <td>5941.404031</td>\n",
       "    </tr>\n",
       "  </tbody>\n",
       "</table>\n",
       "</div>"
      ],
      "text/plain": [
       "   Years     Months        Index\n",
       "0   2017       June  5744.700439\n",
       "1   2017       July  5821.848447\n",
       "2   2017     August  5844.486328\n",
       "3   2017  September  5865.231265\n",
       "4   2017    October  5941.404031"
      ]
     },
     "execution_count": 105,
     "metadata": {},
     "output_type": "execute_result"
    }
   ],
   "source": [
    "df_bar.head()"
   ]
  },
  {
   "cell_type": "code",
   "execution_count": 106,
   "metadata": {
    "executionInfo": {
     "elapsed": 15,
     "status": "ok",
     "timestamp": 1654218151598,
     "user": {
      "displayName": "fr monk",
      "userId": "18079389284080009080"
     },
     "user_tz": -480
    },
    "id": "FvYKGmlb_OhN"
   },
   "outputs": [],
   "source": [
    "missing_data = {\n",
    "        \"Years\": [2017, 2017, 2017, 2017, 2017],\n",
    "        \"Months\": ['January', 'February', 'March', 'April', 'May'],\n",
    "        \"Index\": [0, 0, 0, 0, 0]\n",
    "    }"
   ]
  },
  {
   "cell_type": "code",
   "execution_count": 107,
   "metadata": {
    "executionInfo": {
     "elapsed": 16,
     "status": "ok",
     "timestamp": 1654218151599,
     "user": {
      "displayName": "fr monk",
      "userId": "18079389284080009080"
     },
     "user_tz": -480
    },
    "id": "FuTLilPmAAUJ"
   },
   "outputs": [],
   "source": [
    "df_bar = pd.concat([pd.DataFrame(missing_data), df_bar])"
   ]
  },
  {
   "cell_type": "code",
   "execution_count": 108,
   "metadata": {
    "colab": {
     "base_uri": "https://localhost:8080/",
     "height": 300
    },
    "executionInfo": {
     "elapsed": 15,
     "status": "ok",
     "timestamp": 1654218151599,
     "user": {
      "displayName": "fr monk",
      "userId": "18079389284080009080"
     },
     "user_tz": -480
    },
    "id": "kE7uGW-PAH5j",
    "outputId": "7c0416b7-4930-441b-b27d-47ea4885d925"
   },
   "outputs": [
    {
     "data": {
      "text/html": [
       "<div>\n",
       "<style scoped>\n",
       "    .dataframe tbody tr th:only-of-type {\n",
       "        vertical-align: middle;\n",
       "    }\n",
       "\n",
       "    .dataframe tbody tr th {\n",
       "        vertical-align: top;\n",
       "    }\n",
       "\n",
       "    .dataframe thead th {\n",
       "        text-align: right;\n",
       "    }\n",
       "</style>\n",
       "<table border=\"1\" class=\"dataframe\">\n",
       "  <thead>\n",
       "    <tr style=\"text-align: right;\">\n",
       "      <th></th>\n",
       "      <th>Years</th>\n",
       "      <th>Months</th>\n",
       "      <th>Index</th>\n",
       "    </tr>\n",
       "  </thead>\n",
       "  <tbody>\n",
       "    <tr>\n",
       "      <th>0</th>\n",
       "      <td>2017</td>\n",
       "      <td>January</td>\n",
       "      <td>0.000000</td>\n",
       "    </tr>\n",
       "    <tr>\n",
       "      <th>1</th>\n",
       "      <td>2017</td>\n",
       "      <td>February</td>\n",
       "      <td>0.000000</td>\n",
       "    </tr>\n",
       "    <tr>\n",
       "      <th>2</th>\n",
       "      <td>2017</td>\n",
       "      <td>March</td>\n",
       "      <td>0.000000</td>\n",
       "    </tr>\n",
       "    <tr>\n",
       "      <th>3</th>\n",
       "      <td>2017</td>\n",
       "      <td>April</td>\n",
       "      <td>0.000000</td>\n",
       "    </tr>\n",
       "    <tr>\n",
       "      <th>4</th>\n",
       "      <td>2017</td>\n",
       "      <td>May</td>\n",
       "      <td>0.000000</td>\n",
       "    </tr>\n",
       "    <tr>\n",
       "      <th>0</th>\n",
       "      <td>2017</td>\n",
       "      <td>June</td>\n",
       "      <td>5744.700439</td>\n",
       "    </tr>\n",
       "    <tr>\n",
       "      <th>1</th>\n",
       "      <td>2017</td>\n",
       "      <td>July</td>\n",
       "      <td>5821.848447</td>\n",
       "    </tr>\n",
       "    <tr>\n",
       "      <th>2</th>\n",
       "      <td>2017</td>\n",
       "      <td>August</td>\n",
       "      <td>5844.486328</td>\n",
       "    </tr>\n",
       "  </tbody>\n",
       "</table>\n",
       "</div>"
      ],
      "text/plain": [
       "   Years    Months        Index\n",
       "0   2017   January     0.000000\n",
       "1   2017  February     0.000000\n",
       "2   2017     March     0.000000\n",
       "3   2017     April     0.000000\n",
       "4   2017       May     0.000000\n",
       "0   2017      June  5744.700439\n",
       "1   2017      July  5821.848447\n",
       "2   2017    August  5844.486328"
      ]
     },
     "execution_count": 108,
     "metadata": {},
     "output_type": "execute_result"
    }
   ],
   "source": [
    "df_bar.head(8)"
   ]
  },
  {
   "cell_type": "code",
   "execution_count": 109,
   "metadata": {
    "colab": {
     "base_uri": "https://localhost:8080/",
     "height": 909
    },
    "executionInfo": {
     "elapsed": 1751,
     "status": "ok",
     "timestamp": 1654218182479,
     "user": {
      "displayName": "fr monk",
      "userId": "18079389284080009080"
     },
     "user_tz": -480
    },
    "id": "axhX5A-YAI2b",
    "outputId": "da1f1e0e-ce58-471e-8587-b79482f569c4"
   },
   "outputs": [
    {
     "data": {
      "image/png": "[encoded data removed]",
      "text/plain": [
       "<Figure size 1080x1080 with 1 Axes>"
      ]
     },
     "metadata": {},
     "output_type": "display_data"
    }
   ],
   "source": [
    "fig, ax = plt.subplots(figsize = (15, 15))\n",
    "\n",
    "ax.set_title(\"Barplot IHSG Rata-Rata per Bulan 2017-2022\")\n",
    "\n",
    "ax.set_ylim(ymin = 4000, ymax = 7500)\n",
    "\n",
    "chart = sns.barplot(data=df_bar, x=\"Years\", y=\"Index\", hue=\"Months\", palette = 'Paired')\n",
    "chart.set_xticklabels(chart.get_xticklabels(), rotation=90, horizontalalignment='center')\n",
    "\n",
    "fig.savefig(\"Barplot IHSG Rata-Rata per Bulan 2017-2022\")\n"
   ]
  },
  {
   "cell_type": "markdown",
   "metadata": {
    "executionInfo": {
     "elapsed": 5,
     "status": "aborted",
     "timestamp": 1654218152642,
     "user": {
      "displayName": "fr monk",
      "userId": "18079389284080009080"
     },
     "user_tz": -480
    },
    "id": "jhRNaRuHAmgM"
   },
   "source": [
    "### Simple Prediction"
   ]
  },
  {
   "cell_type": "code",
   "execution_count": 138,
   "metadata": {},
   "outputs": [],
   "source": [
    "from scipy.stats import linregress"
   ]
  },
  {
   "cell_type": "markdown",
   "metadata": {
    "tags": []
   },
   "source": [
    "#### Cleaning the data"
   ]
  },
  {
   "cell_type": "code",
   "execution_count": null,
   "metadata": {},
   "outputs": [],
   "source": []
  }
 ],
 "metadata": {
  "colab": {
   "authorship_tag": "ABX9TyMxNO0+30arhEq2zhEk0tZs",
   "collapsed_sections": [],
   "name": "Kecenderungan IHSG.ipynb",
   "provenance": []
  },
  "kernelspec": {
   "display_name": "Python 3",
   "language": "python",
   "name": "python3"
  },
  "language_info": {
   "codemirror_mode": {
    "name": "ipython",
    "version": 3
   },
   "file_extension": ".py",
   "mimetype": "text/x-python",
   "name": "python",
   "nbconvert_exporter": "python",
   "pygments_lexer": "ipython3",
   "version": "3.9.1"
  }
 },
 "nbformat": 4,
 "nbformat_minor": 4
}
